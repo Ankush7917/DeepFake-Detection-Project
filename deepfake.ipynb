{
 "cells": [
  {
   "cell_type": "markdown",
   "metadata": {},
   "source": [
    "<h1 align=\"center\">Deepfake detection</h1>"
   ]
  },
  {
   "cell_type": "markdown",
   "metadata": {},
   "source": [
    "We are trying to detect deepfake videos. Here we are using a dataset from Kaggle where the annotations are stored in a json file in the train \n",
    "sample videos folder.\n",
    "\n",
    "Steps:\n",
    "* Reading the videos and taking images from it\n",
    "* Reading the label in the json file and store the image in a folder according to it's label\n",
    "* Converting the image to an array and splitting the data into train and test\n",
    "* Customizing the InceptionResNetV2 and training the data on it\n",
    "* Testing\n"
   ]
  },
  {
   "cell_type": "markdown",
   "metadata": {},
   "source": [
    "## Importing necessary Libraries"
   ]
  },
  {
   "cell_type": "code",
   "execution_count": 1,
   "metadata": {},
   "outputs": [],
   "source": [
    "import dlib\n",
    "import cv2\n",
    "import os\n",
    "import re\n",
    "import json\n",
    "from pylab import *\n",
    "from PIL import Image, ImageChops, ImageEnhance\n",
    "import tensorflow as tf\n",
    "import numpy as np\n",
    "import matplotlib.pyplot as plt\n",
    "import seaborn as sn\n",
    "import pandas as pd\n",
    "from tensorflow.keras.preprocessing.image import ImageDataGenerator, img_to_array, load_img\n",
    "from tensorflow.keras.utils import to_categorical\n",
    "from sklearn.model_selection import train_test_split\n",
    "from sklearn.metrics import confusion_matrix,f1_score,classification_report\n",
    "from tensorflow.keras.models import load_model"
   ]
  },
  {
   "cell_type": "markdown",
   "metadata": {},
   "source": [
    "## Using the dlib face detecter to convert video to face img"
   ]
  },
  {
   "cell_type": "code",
   "execution_count": 2,
   "metadata": {},
   "outputs": [],
   "source": [
    "train_frame_folder = 'train_sample_videos'\n",
    "\n",
    "#loading the data from json file\n",
    "with open(os.path.join(train_frame_folder, 'metadata.json'), 'r') as file:\n",
    "    data = json.load(file)\n",
    "    \n",
    "# Saving the names of videos in a list\n",
    "\n",
    "list_of_train_data = []\n",
    "\n",
    "for f in os.listdir(train_frame_folder):\n",
    "    if f.endswith('.mp4'):\n",
    "        list_of_train_data.append(f)\n",
    "\n",
    "detector = dlib.get_frontal_face_detector()\n",
    "for vid in list_of_train_data:\n",
    "    count = 0\n",
    "    cap = cv2.VideoCapture(os.path.join(train_frame_folder, vid))\n",
    "    frameRate = cap.get(5)\n",
    "    while cap.isOpened():\n",
    "        frameId = cap.get(1)\n",
    "        ret, frame = cap.read()\n",
    "        if ret != True:\n",
    "            break\n",
    "        if frameId % ((int(frameRate)+1)*1) == 0:\n",
    "            face_rects, scores, idx = detector.run(frame, 0)\n",
    "            for i, d in enumerate(face_rects):\n",
    "                x1 = d.left()\n",
    "                y1 = d.top()\n",
    "                x2 = d.right()\n",
    "                y2 = d.bottom()\n",
    "                crop_img = frame[y1:y2, x1:x2]\n",
    "                # Resizing the cropped image and saving it to dataset folder in png format\n",
    "                if data[vid]['label'] == 'REAL':\n",
    "                    cv2.imwrite('dataset/real/'+vid.split('.')[0]+'_'+str(count)+'.png', cv2.resize(crop_img, (224, 224)))\n",
    "                elif data[vid]['label'] == 'FAKE':\n",
    "                    cv2.imwrite('dataset/fake/'+vid.split('.')[0]+'_'+str(count)+'.png', cv2.resize(crop_img, (224, 224)))\n",
    "                count+=1"
   ]
  },
  {
   "cell_type": "markdown",
   "metadata": {},
   "source": [
    "## Converting image data to numpy array "
   ]
  },
  {
   "cell_type": "code",
   "execution_count": 3,
   "metadata": {},
   "outputs": [],
   "source": [
    "input_shape = (224, 224, 3)\n",
    "data_dir = 'dataset'\n",
    "\n",
    "\n",
    "#Storing the real and fake image names in lists\n",
    "real_data = []\n",
    "fake_data = []\n",
    "\n",
    "for f in os.listdir(data_dir+'/real'):\n",
    "    if f.endswith('.png'):\n",
    "        real_data.append(f)\n",
    "    \n",
    "for f in os.listdir(data_dir+'/fake'):\n",
    "    if f.endswith('.png'):\n",
    "        fake_data.append(f)    \n",
    "\n",
    "#Creating an empty array to store the real and fake image data\n",
    "X = []\n",
    "\n",
    "#Creating an empty array store the labels\n",
    "Y = []\n",
    "\n",
    "\n",
    "#Appending Numpy array info of image to X and label info to Y (1 for real and 0 for fake)\n",
    "for img in real_data:\n",
    "    X.append(img_to_array(load_img(data_dir+'/real/'+img)).flatten() / 255.0)\n",
    "    Y.append(1)\n",
    "for img in fake_data:\n",
    "    X.append(img_to_array(load_img(data_dir+'/fake/'+img)).flatten() / 255.0)\n",
    "    Y.append(0)\n",
    "\n",
    "Y_val_org = Y\n",
    "\n",
    "#Normalization\n",
    "X = np.array(X)\n",
    "Y = to_categorical(Y, 2)\n",
    "\n",
    "#Reshape\n",
    "X = X.reshape(-1, 224, 224, 3)\n",
    "\n",
    "#Train-Test split\n",
    "X_train, X_val, Y_train, Y_val = train_test_split(X, Y, test_size = 0.25, random_state=5)\n"
   ]
  },
  {
   "cell_type": "markdown",
   "metadata": {},
   "source": [
    "# Model Building"
   ]
  },
  {
   "cell_type": "markdown",
   "metadata": {},
   "source": [
    "##### We are using the Inception ResNetV2 model and customizing it"
   ]
  },
  {
   "cell_type": "code",
   "execution_count": 4,
   "metadata": {},
   "outputs": [
    {
     "name": "stdout",
     "output_type": "stream",
     "text": [
      "Model: \"sequential\"\n",
      "_________________________________________________________________\n",
      "Layer (type)                 Output Shape              Param #   \n",
      "=================================================================\n",
      "inception_resnet_v2 (Functio (None, 5, 5, 1536)        54336736  \n",
      "_________________________________________________________________\n",
      "global_average_pooling2d (Gl (None, 1536)              0         \n",
      "_________________________________________________________________\n",
      "dense (Dense)                (None, 2)                 3074      \n",
      "=================================================================\n",
      "Total params: 54,339,810\n",
      "Trainable params: 54,279,266\n",
      "Non-trainable params: 60,544\n",
      "_________________________________________________________________\n"
     ]
    }
   ],
   "source": [
    "from tensorflow.keras.applications import InceptionResNetV2\n",
    "from tensorflow.keras.layers import Conv2D, MaxPooling2D, Flatten, Dense, Dropout, InputLayer, GlobalAveragePooling2D\n",
    "from tensorflow.keras.models import Sequential, Model\n",
    "from tensorflow.keras import optimizers\n",
    "from tensorflow.keras.callbacks import ReduceLROnPlateau, EarlyStopping\n",
    "\n",
    "googleNet_model = InceptionResNetV2(include_top=False, weights='imagenet', input_shape=input_shape)\n",
    "googleNet_model.trainable = True\n",
    "model = Sequential()\n",
    "model.add(googleNet_model)\n",
    "model.add(GlobalAveragePooling2D())\n",
    "#model.add(Dense(units=64, activation='relu'))\n",
    "model.add(Dense(units=2, activation='softmax'))\n",
    "model.compile(loss='binary_crossentropy',\n",
    "              optimizer=optimizers.Adam(lr=1e-5, beta_1=0.9, beta_2=0.999, epsilon=None, decay=0.0, amsgrad=False),\n",
    "              metrics=['accuracy'])\n",
    "model.summary()"
   ]
  },
  {
   "cell_type": "markdown",
   "metadata": {},
   "source": [
    "# Training the Model on Training Data"
   ]
  },
  {
   "cell_type": "code",
   "execution_count": 5,
   "metadata": {},
   "outputs": [
    {
     "name": "stdout",
     "output_type": "stream",
     "text": [
      "Epoch 1/40\n",
      "110/110 [==============================] - 336s 3s/step - loss: 0.5704 - accuracy: 0.8082 - val_loss: 0.4815 - val_accuracy: 0.7930\n",
      "Epoch 2/40\n",
      "110/110 [==============================] - 325s 3s/step - loss: 0.3771 - accuracy: 0.8642 - val_loss: 0.4422 - val_accuracy: 0.8149\n",
      "Epoch 3/40\n",
      "110/110 [==============================] - 325s 3s/step - loss: 0.2240 - accuracy: 0.9376 - val_loss: 0.3248 - val_accuracy: 0.8719\n",
      "Epoch 4/40\n",
      "110/110 [==============================] - 325s 3s/step - loss: 0.1082 - accuracy: 0.9808 - val_loss: 0.3399 - val_accuracy: 0.8905\n",
      "Epoch 5/40\n",
      "110/110 [==============================] - 325s 3s/step - loss: 0.0560 - accuracy: 0.9916 - val_loss: 0.3415 - val_accuracy: 0.8970\n",
      "Epoch 6/40\n",
      "110/110 [==============================] - 325s 3s/step - loss: 0.0392 - accuracy: 0.9919 - val_loss: 0.3247 - val_accuracy: 0.9047\n",
      "Epoch 7/40\n",
      "110/110 [==============================] - 325s 3s/step - loss: 0.0209 - accuracy: 0.9976 - val_loss: 0.2948 - val_accuracy: 0.9124\n",
      "Epoch 8/40\n",
      "110/110 [==============================] - 325s 3s/step - loss: 0.0198 - accuracy: 0.9964 - val_loss: 0.2405 - val_accuracy: 0.9222\n",
      "Epoch 9/40\n",
      "110/110 [==============================] - 325s 3s/step - loss: 0.0147 - accuracy: 0.9978 - val_loss: 0.2534 - val_accuracy: 0.9146\n",
      "Epoch 10/40\n",
      "110/110 [==============================] - 325s 3s/step - loss: 0.0147 - accuracy: 0.9958 - val_loss: 0.2714 - val_accuracy: 0.9091\n",
      "Epoch 11/40\n",
      "110/110 [==============================] - 325s 3s/step - loss: 0.0122 - accuracy: 0.9981 - val_loss: 0.2505 - val_accuracy: 0.9233\n",
      "Epoch 12/40\n",
      "110/110 [==============================] - 325s 3s/step - loss: 0.0118 - accuracy: 0.9983 - val_loss: 0.2449 - val_accuracy: 0.9266\n",
      "Epoch 13/40\n",
      "110/110 [==============================] - 325s 3s/step - loss: 0.0072 - accuracy: 0.9997 - val_loss: 0.2382 - val_accuracy: 0.9277\n",
      "Epoch 14/40\n",
      "110/110 [==============================] - 325s 3s/step - loss: 0.0152 - accuracy: 0.9949 - val_loss: 0.2290 - val_accuracy: 0.9266\n",
      "Epoch 15/40\n",
      "110/110 [==============================] - 325s 3s/step - loss: 0.0125 - accuracy: 0.9969 - val_loss: 0.2668 - val_accuracy: 0.9277\n",
      "Epoch 16/40\n",
      "110/110 [==============================] - 325s 3s/step - loss: 0.0065 - accuracy: 0.9988 - val_loss: 0.2685 - val_accuracy: 0.9277\n",
      "Epoch 17/40\n",
      "110/110 [==============================] - 325s 3s/step - loss: 0.0091 - accuracy: 0.9976 - val_loss: 0.2863 - val_accuracy: 0.9233\n",
      "Epoch 18/40\n",
      "110/110 [==============================] - 325s 3s/step - loss: 0.0068 - accuracy: 0.9983 - val_loss: 0.2978 - val_accuracy: 0.9244\n",
      "Epoch 19/40\n",
      "110/110 [==============================] - 325s 3s/step - loss: 0.0039 - accuracy: 1.0000 - val_loss: 0.2909 - val_accuracy: 0.9266\n",
      "Epoch 20/40\n",
      "110/110 [==============================] - 325s 3s/step - loss: 0.0104 - accuracy: 0.9991 - val_loss: 0.2916 - val_accuracy: 0.9299\n",
      "Epoch 21/40\n",
      "110/110 [==============================] - 325s 3s/step - loss: 0.0049 - accuracy: 0.9996 - val_loss: 0.2926 - val_accuracy: 0.9266\n",
      "Epoch 22/40\n",
      "110/110 [==============================] - 325s 3s/step - loss: 0.0049 - accuracy: 0.9989 - val_loss: 0.2704 - val_accuracy: 0.9299\n",
      "Epoch 23/40\n",
      "110/110 [==============================] - 325s 3s/step - loss: 0.0031 - accuracy: 0.9996 - val_loss: 0.2827 - val_accuracy: 0.9277\n",
      "Epoch 24/40\n",
      "110/110 [==============================] - 325s 3s/step - loss: 0.0034 - accuracy: 0.9999 - val_loss: 0.2813 - val_accuracy: 0.9288\n",
      "Epoch 25/40\n",
      "110/110 [==============================] - 325s 3s/step - loss: 0.0032 - accuracy: 0.9991 - val_loss: 0.2801 - val_accuracy: 0.9332\n",
      "Epoch 26/40\n",
      "110/110 [==============================] - 325s 3s/step - loss: 0.0058 - accuracy: 0.9986 - val_loss: 0.2734 - val_accuracy: 0.9343\n",
      "Epoch 27/40\n",
      "110/110 [==============================] - 325s 3s/step - loss: 0.0038 - accuracy: 0.9993 - val_loss: 0.2831 - val_accuracy: 0.9299\n",
      "Epoch 28/40\n",
      "110/110 [==============================] - 325s 3s/step - loss: 0.0095 - accuracy: 0.9982 - val_loss: 0.2648 - val_accuracy: 0.9343\n",
      "Epoch 29/40\n",
      "110/110 [==============================] - 325s 3s/step - loss: 0.0028 - accuracy: 0.9998 - val_loss: 0.2593 - val_accuracy: 0.9365\n",
      "Epoch 30/40\n",
      "110/110 [==============================] - 325s 3s/step - loss: 0.0039 - accuracy: 0.9993 - val_loss: 0.2834 - val_accuracy: 0.9266\n",
      "Epoch 31/40\n",
      "110/110 [==============================] - 325s 3s/step - loss: 0.0027 - accuracy: 0.9995 - val_loss: 0.2508 - val_accuracy: 0.9398\n",
      "Epoch 32/40\n",
      "110/110 [==============================] - 325s 3s/step - loss: 0.0025 - accuracy: 0.9998 - val_loss: 0.2667 - val_accuracy: 0.9299\n",
      "Epoch 33/40\n",
      "110/110 [==============================] - 325s 3s/step - loss: 0.0019 - accuracy: 1.0000 - val_loss: 0.2670 - val_accuracy: 0.9321\n",
      "Epoch 34/40\n",
      "110/110 [==============================] - 325s 3s/step - loss: 0.0077 - accuracy: 0.9980 - val_loss: 0.3030 - val_accuracy: 0.9288\n",
      "Epoch 35/40\n",
      "110/110 [==============================] - 325s 3s/step - loss: 0.0061 - accuracy: 0.9977 - val_loss: 0.2836 - val_accuracy: 0.9299\n",
      "Epoch 36/40\n",
      "110/110 [==============================] - 325s 3s/step - loss: 0.0022 - accuracy: 0.9995 - val_loss: 0.2707 - val_accuracy: 0.9310\n",
      "Epoch 37/40\n",
      "110/110 [==============================] - 325s 3s/step - loss: 0.0051 - accuracy: 0.9980 - val_loss: 0.2732 - val_accuracy: 0.9343\n",
      "Epoch 38/40\n",
      "110/110 [==============================] - 325s 3s/step - loss: 0.0027 - accuracy: 0.9994 - val_loss: 0.3170 - val_accuracy: 0.9222\n",
      "Epoch 39/40\n",
      "110/110 [==============================] - 325s 3s/step - loss: 0.0107 - accuracy: 0.9983 - val_loss: 0.2865 - val_accuracy: 0.9277\n",
      "Epoch 40/40\n",
      "110/110 [==============================] - 325s 3s/step - loss: 0.0046 - accuracy: 0.9986 - val_loss: 0.2604 - val_accuracy: 0.9288\n"
     ]
    }
   ],
   "source": [
    "early_stopping = EarlyStopping(monitor='val_loss',\n",
    "                               min_delta=0,\n",
    "                               patience=2,\n",
    "                               verbose=0, mode='auto')\n",
    "EPOCHS = 40\n",
    "BATCH_SIZE = 25\n",
    "history = model.fit(X_train, Y_train, batch_size = BATCH_SIZE, epochs = EPOCHS, validation_data = (X_val, Y_val), verbose = 1)"
   ]
  },
  {
   "cell_type": "markdown",
   "metadata": {},
   "source": [
    "# Plotting the Metrics"
   ]
  },
  {
   "cell_type": "code",
   "execution_count": 6,
   "metadata": {},
   "outputs": [
    {
     "data": {
      "image/png": "[encoded data removed]",
      "text/plain": [
       "<Figure size 1800x432 with 2 Axes>"
      ]
     },
     "metadata": {
      "needs_background": "light"
     },
     "output_type": "display_data"
    }
   ],
   "source": [
    "f, (ax1, ax2) = plt.subplots(1, 2, figsize=(25, 6))\n",
    "t = f.suptitle('Pre-trained InceptionResNetV2 Transfer Learn with Fine-Tuning & Image Augmentation Performance ', fontsize=12)\n",
    "f.subplots_adjust(top=0.85, wspace=0.3)\n",
    "\n",
    "epoch_list = list(range(1,EPOCHS+1))\n",
    "ax1.plot(epoch_list, history.history['accuracy'], label='Train Accuracy')\n",
    "ax1.plot(epoch_list, history.history['val_accuracy'], label='Validation Accuracy')\n",
    "ax1.set_xticks(np.arange(0, EPOCHS+1, 1))\n",
    "ax1.set_ylabel('Accuracy Value')\n",
    "ax1.set_xlabel('Epoch #')\n",
    "ax1.set_title('Accuracy')\n",
    "l1 = ax1.legend(loc=\"best\")\n",
    "\n",
    "ax2.plot(epoch_list, history.history['loss'], label='Train Loss')\n",
    "ax2.plot(epoch_list, history.history['val_loss'], label='Validation Loss')\n",
    "ax2.set_xticks(np.arange(0, EPOCHS+1, 1))\n",
    "ax2.set_ylabel('Loss Value')\n",
    "ax2.set_xlabel('Epoch #')\n",
    "ax2.set_title('Loss')\n",
    "l2 = ax2.legend(loc=\"best\")"
   ]
  },
  {
   "cell_type": "markdown",
   "metadata": {},
   "source": [
    "# Function to print Confusion Matrix"
   ]
  },
  {
   "cell_type": "code",
   "execution_count": 7,
   "metadata": {},
   "outputs": [
    {
     "name": "stdout",
     "output_type": "stream",
     "text": [
      "True positive =  2880\n",
      "False positive =  42\n",
      "False negative =  39\n",
      "True negative =  690\n",
      "\n",
      "\n"
     ]
    },
    {
     "data": {
      "image/png": "[encoded data removed]",
      "text/plain": [
       "<Figure size 432x288 with 2 Axes>"
      ]
     },
     "metadata": {},
     "output_type": "display_data"
    }
   ],
   "source": [
    "#Output confusion matrix\n",
    "def print_confusion_matrix(y_true, y_pred):\n",
    "    cm = confusion_matrix(y_true, y_pred)\n",
    "    print('True positive = ', cm[0][0])\n",
    "    print('False positive = ', cm[0][1])\n",
    "    print('False negative = ', cm[1][0])\n",
    "    print('True negative = ', cm[1][1])\n",
    "    print('\\n')\n",
    "    df_cm = pd.DataFrame(cm, range(2), range(2))\n",
    "    sn.set(font_scale=1.4) # for label size\n",
    "    sn.heatmap(df_cm, annot=True, annot_kws={\"size\": 16}) # font size\n",
    "    plt.ylabel('Actual label', size = 20)\n",
    "    plt.xlabel('Predicted label', size = 20)\n",
    "    plt.xticks(np.arange(2), ['Fake', 'Real'], size = 16)\n",
    "    plt.yticks(np.arange(2), ['Fake', 'Real'], size = 16)\n",
    "    plt.ylim([2, 0])\n",
    "    plt.show()\n",
    "    \n",
    "print_confusion_matrix(Y_val_org, np.argmax(model.predict(X),axis=-1))"
   ]
  },
  {
   "cell_type": "markdown",
   "metadata": {},
   "source": [
    "## Further metrics"
   ]
  },
  {
   "cell_type": "code",
   "execution_count": 8,
   "metadata": {},
   "outputs": [
    {
     "name": "stdout",
     "output_type": "stream",
     "text": [
      "f1 score : 0.944558521560575 \n",
      "\n",
      "Classification report : \n",
      "              precision    recall  f1-score   support\n",
      "\n",
      "           0       0.99      0.99      0.99      2922\n",
      "           1       0.94      0.95      0.94       729\n",
      "\n",
      "    accuracy                           0.98      3651\n",
      "   macro avg       0.96      0.97      0.97      3651\n",
      "weighted avg       0.98      0.98      0.98      3651\n",
      "\n"
     ]
    }
   ],
   "source": [
    "f1 = f1_score(Y_val_org, np.argmax(model.predict(X),axis=-1))\n",
    "cr = classification_report(Y_val_org, np.argmax(model.predict(X),axis = -1))\n",
    "print(f'f1 score : {f1} \\n')\n",
    "print(f'Classification report : \\n{cr}')"
   ]
  },
  {
   "cell_type": "markdown",
   "metadata": {},
   "source": [
    "# Saving the Model for future use"
   ]
  },
  {
   "cell_type": "code",
   "execution_count": 9,
   "metadata": {},
   "outputs": [],
   "source": [
    "model.save('deepfake-detection-model.h5')"
   ]
  },
  {
   "cell_type": "markdown",
   "metadata": {},
   "source": [
    "# Loading the Saved Model"
   ]
  },
  {
   "cell_type": "code",
   "execution_count": 10,
   "metadata": {},
   "outputs": [],
   "source": [
    "model = load_model('deepfake-detection-model.h5')"
   ]
  },
  {
   "cell_type": "markdown",
   "metadata": {},
   "source": [
    "# Testing on the sample videos"
   ]
  },
  {
   "cell_type": "code",
   "execution_count": 17,
   "metadata": {},
   "outputs": [
    {
     "name": "stdout",
     "output_type": "stream",
     "text": [
      "Video_name\tPredicted Actual\n",
      "-------------------------------\n",
      "ahqqqilsxt.mp4 :   REAL   REAL \n",
      "ajwpjhrbcv.mp4 :   FAKE   FAKE \n",
      "aapnvogymq.mp4 :   FAKE   FAKE \n",
      "ajqslcypsw.mp4 :   REAL   REAL \n",
      "aipfdnwpoo.mp4 :   FAKE   FAKE \n",
      "abqwwspghj.mp4 :   FAKE   FAKE \n",
      "abofeumbvv.mp4 :   FAKE   FAKE \n",
      "aklqzsddfl.mp4 :   FAKE   FAKE \n",
      "aagfhgtpmv.mp4 :   FAKE   FAKE \n",
      "abarnvbtwb.mp4 :   REAL   REAL \n"
     ]
    }
   ],
   "source": [
    "test_frame_folder = 'test_videos'\n",
    "list_of_test_data = [f for f in os.listdir(test_frame_folder) if f.endswith('.mp4')]\n",
    "detector = dlib.get_frontal_face_detector()\n",
    "with open(os.path.join(test_frame_folder, 'metadata.json'), 'r') as file:\n",
    "    data_test = json.load(file)\n",
    "    \n",
    "actual_value = []\n",
    "predicted_value = []\n",
    "    \n",
    "print('Video_name\\tPredicted Actual')\n",
    "print('-------------------------------')\n",
    "    \n",
    "for vid in list_of_test_data:\n",
    "    count = 0\n",
    "    cap = cv2.VideoCapture(os.path.join(test_frame_folder, vid))\n",
    "    frameRate = cap.get(5)\n",
    "    while cap.isOpened():\n",
    "        frameId = cap.get(1)\n",
    "        ret, frame = cap.read()\n",
    "        if ret != True:\n",
    "            break\n",
    "        if frameId % ((int(frameRate)+1)*1) == 0:\n",
    "            face_rects, scores, idx = detector.run(frame, 0)\n",
    "            for i, d in enumerate(face_rects):\n",
    "                x1 = d.left()\n",
    "                y1 = d.top()\n",
    "                x2 = d.right()\n",
    "                y2 = d.bottom()\n",
    "                crop_img = frame[y1:y2, x1:x2]\n",
    "                data = img_to_array(cv2.resize(crop_img, (224, 224))).flatten() / 255.0\n",
    "                data = data.reshape(-1, 224, 224, 3)\n",
    "    actual = data_test[vid]['label']\n",
    "    predicted = 'FAKE' if np.argmax(model.predict(data),axis=-1) ==[0] else 'REAL'\n",
    "    print(\"{vid} :   {predicted}   {actual} \".format(vid = vid,predicted = predicted,actual=actual))\n",
    "    \n",
    "   # Storing the predictions in an array\n",
    "    if np.argmax(model.predict(data),axis=-1) ==[0]:\n",
    "        predicted_value.append(0)\n",
    "    elif np.argmax(model.predict(data),axis=-1) ==[1]:\n",
    "        predicted_value.append(1)\n",
    "        \n",
    "    # The label in the json file is a string so in order to get the metrics wee need to convert them to arrays\n",
    "    if actual == 'FAKE':\n",
    "        actual_value.append(0)\n",
    "    elif actual == 'REAL':\n",
    "        actual_value.append(1)"
   ]
  },
  {
   "cell_type": "markdown",
   "metadata": {},
   "source": [
    "### Metrics on test data"
   ]
  },
  {
   "cell_type": "code",
   "execution_count": 12,
   "metadata": {},
   "outputs": [],
   "source": [
    "predicted_value = np.array(predicted_value)  \n",
    "actual_value = np.array(actual_value)"
   ]
  },
  {
   "cell_type": "code",
   "execution_count": 13,
   "metadata": {},
   "outputs": [
    {
     "name": "stdout",
     "output_type": "stream",
     "text": [
      "f1 score : 1.0 \n",
      "\n"
     ]
    }
   ],
   "source": [
    "f1 = f1_score(actual_value,predicted_value)\n",
    "print(f'f1 score : {f1} \\n')"
   ]
  },
  {
   "cell_type": "code",
   "execution_count": 14,
   "metadata": {},
   "outputs": [
    {
     "name": "stdout",
     "output_type": "stream",
     "text": [
      "True positive =  7\n",
      "False positive =  0\n",
      "False negative =  0\n",
      "True negative =  3\n",
      "\n",
      "\n"
     ]
    },
    {
     "data": {
      "image/png": "[encoded data removed]",
      "text/plain": [
       "<Figure size 432x288 with 2 Axes>"
      ]
     },
     "metadata": {},
     "output_type": "display_data"
    }
   ],
   "source": [
    "print_confusion_matrix(actual_value,predicted_value)"
   ]
  },
  {
   "cell_type": "code",
   "execution_count": 15,
   "metadata": {},
   "outputs": [
    {
     "name": "stdout",
     "output_type": "stream",
     "text": [
      "Classification report : \n",
      "              precision    recall  f1-score   support\n",
      "\n",
      "           0       1.00      1.00      1.00         7\n",
      "           1       1.00      1.00      1.00         3\n",
      "\n",
      "    accuracy                           1.00        10\n",
      "   macro avg       1.00      1.00      1.00        10\n",
      "weighted avg       1.00      1.00      1.00        10\n",
      "\n"
     ]
    }
   ],
   "source": [
    "cr = classification_report(actual_value,predicted_value)\n",
    "print(f'Classification report : \\n{cr}')"
   ]
  }
 ],
 "metadata": {
  "kernelspec": {
   "display_name": "Python 3",
   "language": "python",
   "name": "python3"
  },
  "language_info": {
   "codemirror_mode": {
    "name": "ipython",
    "version": 3
   },
   "file_extension": ".py",
   "mimetype": "text/x-python",
   "name": "python",
   "nbconvert_exporter": "python",
   "pygments_lexer": "ipython3",
   "version": "3.7.6"
  }
 },
 "nbformat": 4,
 "nbformat_minor": 4
}
