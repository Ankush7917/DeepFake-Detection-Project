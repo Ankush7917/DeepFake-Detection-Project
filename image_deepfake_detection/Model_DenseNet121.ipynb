{
 
   "cell_type": "markdown",
   "metadata": {},
   "source": [
    "# Importing necessary libraries "
   ],
  
 "cells": [
  {
   "cell_type": "code",
   "execution_count": 1,
   "metadata": {},
   "outputs": [],
   "source": [
    "import numpy as np\n",
    "import matplotlib.pyplot as plt\n",
    "import pandas as pd\n",
    "from matplotlib.image import imread\n",
    "from tensorflow.keras.preprocessing.image import ImageDataGenerator\n",
    "from tensorflow.keras.layers import Dense,Dropout\n",
    "from tensorflow.keras.models import Sequential\n",
    "from sklearn.model_selection import train_test_split\n",
    "from sklearn.metrics import roc_auc_score,classification_report,average_precision_score,confusion_matrix\n",
    "import tensorflow as tf\n",
    "from tqdm import tqdm\n",
    "from tensorflow.keras.optimizers import Adam\n",
    "import cv2\n",
    "from tensorflow.keras import layers\n",
    "from tensorflow.keras.applications import DenseNet121\n",
    "from tensorflow.keras.callbacks import Callback, ModelCheckpoint, EarlyStopping"
   ]
  },
  {
   "cell_type": "code",
   "execution_count": 2,
   "metadata": {},
   "outputs": [],
   "source": [
    "#pip install opencv-python"
   ]
  },
  {
   "cell_type": "markdown",
   "metadata": {},
   "source": [
    "# Model "
   ]
  },
  {
   "cell_type": "code",
   "execution_count": 3,
   "metadata": {},
   "outputs": [],
   "source": [
    "def build_model(pretrained):\n",
    "    model = Sequential([\n",
    "        pretrained, #DenseNet121\n",
    "        layers.GlobalAveragePooling2D(),\n",
    "        #layers.Dense(64,activation='relu'),\n",
    "        #layers.Dropout(0.5),\n",
    "        layers.Dense(1, activation='sigmoid')\n",
    "    ])\n",
    "    \n",
    "    model.compile(\n",
    "        loss='binary_crossentropy',\n",
    "        optimizer=Adam(learning_rate=0.001),\n",
    "        metrics=['accuracy']\n",
    "    )\n",
    "    \n",
    "    return model"
   ]
  },
  {
   "cell_type": "markdown",
   "metadata": {},
   "source": [
    "# Generator"
   ]
  },
  {
   "cell_type": "code",
   "execution_count": 4,
   "metadata": {},
   "outputs": [
    {
     "name": "stdout",
     "output_type": "stream",
     "text": [
      "Found 101081 images belonging to 2 classes.\n"
     ]
    }
   ],
   "source": [
    "base_path = '/home/jovyan/work/real_vs_fake/real-vs-fake/'\n",
    "image_gen = ImageDataGenerator(rescale=1./255.,\n",
    "                               rotation_range=20,\n",
    "                               #shear_range=0.2,\n",
    "                               #zoom_range=0.2,\n",
    "                               horizontal_flip=True)\n",
    "\n",
    "train_flow = image_gen.flow_from_directory(\n",
    "    base_path + 'train/',\n",
    "    target_size=(224, 224),\n",
    "    batch_size=64,\n",
    "    class_mode='binary'\n",
    ")"
   ]
  },
  {
   "cell_type": "code",
   "execution_count": 5,
   "metadata": {},
   "outputs": [
    {
     "data": {
      "text/plain": [
       "{'fake': 0, 'real': 1}"
      ]
     },
     "execution_count": 5,
     "metadata": {},
     "output_type": "execute_result"
    }
   ],
   "source": [
    "train_flow.class_indices"
   ]
  },
  {
   "cell_type": "code",
   "execution_count": 6,
   "metadata": {},
   "outputs": [
    {
     "name": "stdout",
     "output_type": "stream",
     "text": [
      "Found 20000 images belonging to 2 classes.\n"
     ]
    }
   ],
   "source": [
    "image_gen1 = ImageDataGenerator(rescale=1./255.)\n",
    "\n",
    "valid_flow = image_gen1.flow_from_directory(\n",
    "    base_path + 'valid/',\n",
    "    target_size=(224, 224),\n",
    "    batch_size=64,\n",
    "    class_mode='binary'\n",
    ")"
   ]
  },
  {
   "cell_type": "markdown",
   "metadata": {},
   "source": [
    "# Train Model DenseNet Augmented Data"
   ]
  },
  {
   "cell_type": "code",
   "execution_count": 7,
   "metadata": {},
   "outputs": [
    {
     "name": "stdout",
     "output_type": "stream",
     "text": [
      "Model: \"sequential\"\n",
      "_________________________________________________________________\n",
      "Layer (type)                 Output Shape              Param #   \n",
      "=================================================================\n",
      "densenet121 (Functional)     (None, 7, 7, 1024)        7037504   \n",
      "_________________________________________________________________\n",
      "global_average_pooling2d (Gl (None, 1024)              0         \n",
      "_________________________________________________________________\n",
      "dense (Dense)                (None, 1)                 1025      \n",
      "=================================================================\n",
      "Total params: 7,038,529\n",
      "Trainable params: 6,954,881\n",
      "Non-trainable params: 83,648\n",
      "_________________________________________________________________\n"
     ]
    }
   ],
   "source": [
    "densenet = DenseNet121(\n",
    "    weights=None,\n",
    "    include_top=False,\n",
    "    input_shape=(224,224,3)\n",
    ")\n",
    "model = build_model(densenet)\n",
    "model.summary()"
   ]
  },
  {
   "cell_type": "code",
   "execution_count": null,
   "metadata": {},
   "outputs": [],
   "source": []
  },
  {
   "cell_type": "code",
   "execution_count": 9,
   "metadata": {},
   "outputs": [
    {
     "name": "stdout",
     "output_type": "stream",
     "text": [
      "WARNING:tensorflow:From <ipython-input-9-73583db0184e>:10: Model.fit_generator (from tensorflow.python.keras.engine.training) is deprecated and will be removed in a future version.\n",
      "Instructions for updating:\n",
      "Please use Model.fit, which supports generators.\n",
      "Epoch 1/20\n",
      "1562/1562 [==============================] - 1277s 818ms/step - loss: 0.5772 - accuracy: 0.6912 - val_loss: 0.8273 - val_accuracy: 0.5646\n",
      "Epoch 2/20\n",
      "1562/1562 [==============================] - 1495s 957ms/step - loss: 0.4051 - accuracy: 0.8151 - val_loss: 0.5325 - val_accuracy: 0.7639\n",
      "Epoch 3/20\n",
      "1562/1562 [==============================] - 1268s 812ms/step - loss: 0.3085 - accuracy: 0.8673 - val_loss: 0.4492 - val_accuracy: 0.8058\n",
      "Epoch 4/20\n",
      "1562/1562 [==============================] - 1265s 810ms/step - loss: 0.2349 - accuracy: 0.9027 - val_loss: 0.4964 - val_accuracy: 0.7955\n",
      "Epoch 5/20\n",
      "1562/1562 [==============================] - 1264s 809ms/step - loss: 0.1795 - accuracy: 0.9273 - val_loss: 0.3050 - val_accuracy: 0.8737\n",
      "Epoch 6/20\n",
      "1562/1562 [==============================] - 1266s 810ms/step - loss: 0.1439 - accuracy: 0.9432 - val_loss: 0.4286 - val_accuracy: 0.8576\n",
      "Epoch 7/20\n",
      "1562/1562 [==============================] - 1264s 810ms/step - loss: 0.1203 - accuracy: 0.9536 - val_loss: 0.4911 - val_accuracy: 0.8018\n",
      "Epoch 8/20\n",
      "1562/1562 [==============================] - 1266s 810ms/step - loss: 0.1016 - accuracy: 0.9601 - val_loss: 0.1730 - val_accuracy: 0.9371\n",
      "Epoch 9/20\n",
      "1562/1562 [==============================] - 1264s 809ms/step - loss: 0.0854 - accuracy: 0.9674 - val_loss: 0.1060 - val_accuracy: 0.9599\n",
      "Epoch 10/20\n",
      "1562/1562 [==============================] - 1261s 807ms/step - loss: 0.0736 - accuracy: 0.9718 - val_loss: 0.1026 - val_accuracy: 0.9607\n",
      "Epoch 11/20\n",
      "1562/1562 [==============================] - 1259s 806ms/step - loss: 0.0655 - accuracy: 0.9749 - val_loss: 0.1008 - val_accuracy: 0.9622\n",
      "Epoch 12/20\n",
      "1562/1562 [==============================] - 1260s 807ms/step - loss: 0.0576 - accuracy: 0.9784 - val_loss: 0.2046 - val_accuracy: 0.9255\n",
      "Epoch 13/20\n",
      "1562/1562 [==============================] - 1263s 809ms/step - loss: 0.0516 - accuracy: 0.9805 - val_loss: 0.1006 - val_accuracy: 0.9606\n",
      "Epoch 14/20\n",
      "1562/1562 [==============================] - 1262s 808ms/step - loss: 0.0457 - accuracy: 0.9826 - val_loss: 0.0549 - val_accuracy: 0.9804\n",
      "Epoch 15/20\n",
      "1562/1562 [==============================] - 1262s 808ms/step - loss: 0.0426 - accuracy: 0.9842 - val_loss: 0.0807 - val_accuracy: 0.9713\n",
      "Epoch 16/20\n",
      "1562/1562 [==============================] - 1266s 811ms/step - loss: 0.0376 - accuracy: 0.9862 - val_loss: 0.0783 - val_accuracy: 0.9725\n",
      "Epoch 17/20\n",
      "1562/1562 [==============================] - 1261s 807ms/step - loss: 0.0353 - accuracy: 0.9872 - val_loss: 0.1437 - val_accuracy: 0.9517\n",
      "Epoch 18/20\n",
      "1562/1562 [==============================] - 1266s 810ms/step - loss: 0.0333 - accuracy: 0.9878 - val_loss: 0.0766 - val_accuracy: 0.9738\n",
      "Epoch 19/20\n",
      "1562/1562 [==============================] - 1263s 808ms/step - loss: 0.0303 - accuracy: 0.9886 - val_loss: 0.0631 - val_accuracy: 0.9777\n",
      "Epoch 20/20\n",
      "1562/1562 [==============================] - 1265s 810ms/step - loss: 0.0287 - accuracy: 0.9897 - val_loss: 0.0934 - val_accuracy: 0.9648\n"
     ]
    }
   ],
   "source": [
    "train_steps = 100000//64\n",
    "valid_steps = 20000//64\n",
    "\n",
    "history = model.fit_generator(\n",
    "    train_flow,\n",
    "    epochs = 20,\n",
    "    #callbacks=[early_stop],\n",
    "    steps_per_epoch= train_steps,\n",
    "    validation_data= valid_flow,\n",
    "    validation_steps= valid_steps\n",
    ")"
   ]
  },
  {
   "cell_type": "code",
   "execution_count": 10,
   "metadata": {},
   "outputs": [],
   "source": [
    "\n",
    "\"\"\"\n",
    "Plot the training and validation loss\n",
    "epochs - list of epoch numbers\n",
    "loss - training loss for each epoch\n",
    "val_loss - validation loss for each epoch\n",
    "\"\"\"\n",
    "def plot_loss(epochs, loss, val_loss):\n",
    "    plt.plot(epochs, loss, 'bo', label='Training Loss')\n",
    "    plt.plot(epochs, val_loss, 'orange', label = 'Validation Loss')\n",
    "    plt.title('Training and Validation Loss')\n",
    "    plt.legend()\n",
    "    plt.show()\n",
    "\"\"\"\n",
    "Plot the training and validation accuracy\n",
    "epochs - list of epoch numbers\n",
    "acc - training accuracy for each epoch\n",
    "val_acc - validation accuracy for each epoch\n",
    "\"\"\"\n",
    "def plot_accuracy(epochs, acc, val_acc):\n",
    "    plt.plot(epochs, acc, 'bo', label='Training accuracy')\n",
    "    plt.plot(epochs, val_acc, 'orange', label = 'Validation accuracy')\n",
    "    plt.title('Training and Validation Accuracy')\n",
    "    plt.legend()\n",
    "    plt.show()"
   ]
  },
  {
   "cell_type": "code",
   "execution_count": 11,
   "metadata": {},
   "outputs": [],
   "source": [
    "acc = history.history['accuracy']\n",
    "val_acc = history.history['val_accuracy']\n",
    "loss = history.history['loss']\n",
    "val_loss = history.history['val_loss']"
   ]
  },
  {
   "cell_type": "code",
   "execution_count": 12,
   "metadata": {},
   "outputs": [
    {
     "data": {
      "image/png": "[encoded data removed]",
      "text/plain": [
       "<Figure size 432x288 with 1 Axes>"
      ]
     },
     "metadata": {
      "needs_background": "light"
     },
     "output_type": "display_data"
    },
    {
     "data": {
      "image/png": "[encoded data removed]",
      "text/plain": [
       "<Figure size 432x288 with 1 Axes>"
      ]
     },
     "metadata": {
      "needs_background": "light"
     },
     "output_type": "display_data"
    }
   ],
   "source": [
    "plot_loss(range(1, len(loss) + 1), loss, val_loss)\n",
    "plot_accuracy(range(1, len(loss) + 1), acc, val_acc)"
   ]
  },
  {
   "cell_type": "code",
   "execution_count": 13,
   "metadata": {},
   "outputs": [
    {
     "name": "stdout",
     "output_type": "stream",
     "text": [
      "Found 20000 images belonging to 2 classes.\n"
     ]
    }
   ],
   "source": [
    "test_flow = image_gen1.flow_from_directory(\n",
    "    base_path + 'test/',\n",
    "    target_size=(224, 224),\n",
    "    batch_size=1,\n",
    "    shuffle = False,\n",
    "    class_mode='binary'\n",
    ")\n",
    "y_pred=model.predict(test_flow)\n",
    "y_test = test_flow.classes"
   ]
  },
  {
   "cell_type": "code",
   "execution_count": 14,
   "metadata": {},
   "outputs": [
    {
     "name": "stdout",
     "output_type": "stream",
     "text": [
      "ROC AUC Score: 0.9963050699999999\n",
      "AP Score: 0.9962819392508482\n",
      "Confusion Matrix : \n",
      " [[9805  195]\n",
      " [ 424 9576]]\n",
      "\n",
      "              precision    recall  f1-score   support\n",
      "\n",
      "           0       0.96      0.98      0.97     10000\n",
      "           1       0.98      0.96      0.97     10000\n",
      "\n",
      "    accuracy                           0.97     20000\n",
      "   macro avg       0.97      0.97      0.97     20000\n",
      "weighted avg       0.97      0.97      0.97     20000\n",
      "\n"
     ]
    }
   ],
   "source": [
    "print(\"ROC AUC Score:\", roc_auc_score(y_test, y_pred))\n",
    "print(\"AP Score:\", average_precision_score(y_test, y_pred))\n",
    "print(\"Confusion Matrix : \\n\" ,confusion_matrix(y_test, y_pred>0.5))\n",
    "print()\n",
    "print(classification_report(y_test, y_pred > 0.5))"
   ]
  },
  {
   "cell_type": "code",
   "execution_count": null,
   "metadata": {},
   "outputs": [],
   "source": []
  },
  {
   "cell_type": "code",
   "execution_count": null,
   "metadata": {},
   "outputs": [],
   "source": [
    "model.save(\"densenet121.h5\")"
   ]
  }
 ],
 "metadata": {
  "kernelspec": {
   "display_name": "Python 3",
   "language": "python",
   "name": "python3"
  },
  "language_info": {
   "codemirror_mode": {
    "name": "ipython",
    "version": 3
   },
   "file_extension": ".py",
   "mimetype": "text/x-python",
   "name": "python",
   "nbconvert_exporter": "python",
   "pygments_lexer": "ipython3",
   "version": "3.7.6"
  }
 },
 "nbformat": 4,
 "nbformat_minor": 4
}
