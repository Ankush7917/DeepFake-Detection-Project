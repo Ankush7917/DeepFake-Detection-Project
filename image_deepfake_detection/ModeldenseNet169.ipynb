{
 "cells": [
  {
   "cell_type": "code",
   "execution_count": 1,
   "metadata": {},
   "outputs": [],
   "source": [
    "import numpy as np\n",
    "import matplotlib.pyplot as plt\n",
    "import pandas as pd\n",
    "from matplotlib.image import imread\n",
    "from tensorflow.keras.preprocessing.image import ImageDataGenerator\n",
    "from tensorflow.keras.layers import Dense,Dropout\n",
    "from tensorflow.keras.models import Sequential\n",
    "from sklearn.model_selection import train_test_split\n",
    "from sklearn.metrics import roc_auc_score,classification_report,average_precision_score,confusion_matrix\n",
    "import tensorflow as tf\n",
    "from tqdm import tqdm\n",
    "from tensorflow.keras.optimizers import Adam\n",
    "import cv2\n",
    "from tensorflow.keras import layers\n",
    "from tensorflow.keras.applications import DenseNet169\n",
    "from tensorflow.keras.callbacks import Callback, ModelCheckpoint, EarlyStopping"
   ]
  },
  {
   "cell_type": "code",
   "execution_count": 2,
   "metadata": {},
   "outputs": [],
   "source": [
    "#pip install opencv-python"
   ]
  },
  {
   "cell_type": "markdown",
   "metadata": {},
   "source": [
    "# Model "
   ]
  },
  {
   "cell_type": "code",
   "execution_count": 3,
   "metadata": {},
   "outputs": [],
   "source": [
    "def build_model(pretrained):\n",
    "    model = Sequential([\n",
    "        pretrained, #DenseNet169\n",
    "        layers.GlobalAveragePooling2D(),\n",
    "        #layers.Dense(64,activation='relu'),\n",
    "        #layers.Dropout(0.5),\n",
    "        layers.Dense(1, activation='sigmoid')\n",
    "    ])\n",
    "    \n",
    "    model.compile(\n",
    "        loss='binary_crossentropy',\n",
    "        optimizer=Adam(learning_rate=0.0005),\n",
    "        metrics=['accuracy']\n",
    "    )\n",
    "    \n",
    "    return model"
   ]
  },
  {
   "cell_type": "markdown",
   "metadata": {},
   "source": [
    "# Generator"
   ]
  },
  {
   "cell_type": "code",
   "execution_count": 4,
   "metadata": {},
   "outputs": [
    {
     "name": "stdout",
     "output_type": "stream",
     "text": [
      "Found 101081 images belonging to 2 classes.\n"
     ]
    }
   ],
   "source": [
    "base_path = '/home/jovyan/work/real_vs_fake/real-vs-fake/'\n",
    "image_gen = ImageDataGenerator(rescale=1./255.,\n",
    "                               rotation_range=20,\n",
    "                               #shear_range=0.2,\n",
    "                               #zoom_range=0.2,\n",
    "                               horizontal_flip=True)\n",
    "\n",
    "train_flow = image_gen.flow_from_directory(\n",
    "    base_path + 'train/',\n",
    "    target_size=(224, 224),\n",
    "    batch_size=64,\n",
    "    class_mode='binary'\n",
    ")"
   ]
  },
  {
   "cell_type": "code",
   "execution_count": 5,
   "metadata": {},
   "outputs": [
    {
     "data": {
      "text/plain": [
       "{'fake': 0, 'real': 1}"
      ]
     },
     "execution_count": 5,
     "metadata": {},
     "output_type": "execute_result"
    }
   ],
   "source": [
    "train_flow.class_indices"
   ]
  },
  {
   "cell_type": "code",
   "execution_count": 6,
   "metadata": {},
   "outputs": [
    {
     "name": "stdout",
     "output_type": "stream",
     "text": [
      "Found 20000 images belonging to 2 classes.\n"
     ]
    }
   ],
   "source": [
    "image_gen1 = ImageDataGenerator(rescale=1./255.)\n",
    "\n",
    "valid_flow = image_gen1.flow_from_directory(\n",
    "    base_path + 'valid/',\n",
    "    target_size=(224, 224),\n",
    "    batch_size=64,\n",
    "    class_mode='binary'\n",
    ")"
   ]
  },
  {
   "cell_type": "markdown",
   "metadata": {},
   "source": [
    "# Train Model DenseNet Augmented Data"
   ]
  },
  {
   "cell_type": "code",
   "execution_count": 7,
   "metadata": {},
   "outputs": [
    {
     "name": "stdout",
     "output_type": "stream",
     "text": [
      "Model: \"sequential\"\n",
      "_________________________________________________________________\n",
      "Layer (type)                 Output Shape              Param #   \n",
      "=================================================================\n",
      "densenet169 (Functional)     (None, 7, 7, 1664)        12642880  \n",
      "_________________________________________________________________\n",
      "global_average_pooling2d (Gl (None, 1664)              0         \n",
      "_________________________________________________________________\n",
      "dense (Dense)                (None, 1)                 1665      \n",
      "=================================================================\n",
      "Total params: 12,644,545\n",
      "Trainable params: 12,486,145\n",
      "Non-trainable params: 158,400\n",
      "_________________________________________________________________\n"
     ]
    }
   ],
   "source": [
    "densenet = DenseNet169(\n",
    "    weights=None,\n",
    "    include_top=False,\n",
    "    input_shape=(224,224,3)\n",
    ")\n",
    "model = build_model(densenet)\n",
    "model.summary()"
   ]
  },
  {
   "cell_type": "code",
   "execution_count": 8,
   "metadata": {},
   "outputs": [],
   "source": [
    "early_stop = EarlyStopping(monitor='val_loss',patience = 1)"
   ]
  },
  {
   "cell_type": "code",
   "execution_count": 9,
   "metadata": {},
   "outputs": [
    {
     "name": "stdout",
     "output_type": "stream",
     "text": [
      "WARNING:tensorflow:From <ipython-input-9-450070add670>:10: Model.fit_generator (from tensorflow.python.keras.engine.training) is deprecated and will be removed in a future version.\n",
      "Instructions for updating:\n",
      "Please use Model.fit, which supports generators.\n",
      "Epoch 1/25\n",
      "1562/1562 [==============================] - 1612s 1s/step - loss: 0.5364 - accuracy: 0.7241 - val_loss: 0.5624 - val_accuracy: 0.7374\n",
      "Epoch 2/25\n",
      "1562/1562 [==============================] - 1308s 837ms/step - loss: 0.3741 - accuracy: 0.8338 - val_loss: 0.4695 - val_accuracy: 0.7769\n",
      "Epoch 3/25\n",
      "1562/1562 [==============================] - 1323s 847ms/step - loss: 0.2775 - accuracy: 0.8832 - val_loss: 0.5170 - val_accuracy: 0.7808\n",
      "Epoch 4/25\n",
      "1562/1562 [==============================] - 1330s 851ms/step - loss: 0.2107 - accuracy: 0.9139 - val_loss: 0.2739 - val_accuracy: 0.8883\n",
      "Epoch 5/25\n",
      "1562/1562 [==============================] - 1317s 843ms/step - loss: 0.1640 - accuracy: 0.9344 - val_loss: 0.4443 - val_accuracy: 0.8165\n",
      "Epoch 6/25\n",
      "1562/1562 [==============================] - 1308s 837ms/step - loss: 0.1323 - accuracy: 0.9476 - val_loss: 0.1769 - val_accuracy: 0.9278\n",
      "Epoch 7/25\n",
      "1562/1562 [==============================] - 1313s 840ms/step - loss: 0.1117 - accuracy: 0.9562 - val_loss: 0.1968 - val_accuracy: 0.9207\n",
      "Epoch 8/25\n",
      "1562/1562 [==============================] - 1318s 844ms/step - loss: 0.0940 - accuracy: 0.9635 - val_loss: 0.2316 - val_accuracy: 0.9047\n",
      "Epoch 9/25\n",
      "1562/1562 [==============================] - 1324s 848ms/step - loss: 0.0814 - accuracy: 0.9689 - val_loss: 0.8518 - val_accuracy: 0.7360\n",
      "Epoch 10/25\n",
      "1562/1562 [==============================] - 1323s 847ms/step - loss: 0.0718 - accuracy: 0.9728 - val_loss: 0.1612 - val_accuracy: 0.9401\n",
      "Epoch 11/25\n",
      "1562/1562 [==============================] - 1315s 842ms/step - loss: 0.0625 - accuracy: 0.9762 - val_loss: 0.1069 - val_accuracy: 0.9595\n",
      "Epoch 12/25\n",
      "1562/1562 [==============================] - 1317s 843ms/step - loss: 0.0569 - accuracy: 0.9785 - val_loss: 0.1379 - val_accuracy: 0.9495\n",
      "Epoch 13/25\n",
      "1562/1562 [==============================] - 1324s 847ms/step - loss: 0.0505 - accuracy: 0.9811 - val_loss: 0.0986 - val_accuracy: 0.9628\n",
      "Epoch 14/25\n",
      "1562/1562 [==============================] - 1327s 849ms/step - loss: 0.0447 - accuracy: 0.9834 - val_loss: 0.1596 - val_accuracy: 0.9445\n",
      "Epoch 15/25\n",
      "1562/1562 [==============================] - 1323s 847ms/step - loss: 0.0422 - accuracy: 0.9840 - val_loss: 0.0815 - val_accuracy: 0.9717\n",
      "Epoch 16/25\n",
      "1562/1562 [==============================] - 1319s 844ms/step - loss: 0.0380 - accuracy: 0.9858 - val_loss: 0.1698 - val_accuracy: 0.9412\n",
      "Epoch 17/25\n",
      "1562/1562 [==============================] - 1320s 845ms/step - loss: 0.0359 - accuracy: 0.9867 - val_loss: 0.0899 - val_accuracy: 0.9698\n",
      "Epoch 18/25\n",
      "1562/1562 [==============================] - 1327s 849ms/step - loss: 0.0319 - accuracy: 0.9881 - val_loss: 0.1364 - val_accuracy: 0.9496\n",
      "Epoch 19/25\n",
      "1562/1562 [==============================] - 1322s 846ms/step - loss: 0.0303 - accuracy: 0.9887 - val_loss: 0.1089 - val_accuracy: 0.9597\n",
      "Epoch 20/25\n",
      "1562/1562 [==============================] - 1344s 861ms/step - loss: 0.0288 - accuracy: 0.9896 - val_loss: 0.1079 - val_accuracy: 0.9637\n",
      "Epoch 21/25\n",
      "1562/1562 [==============================] - 1318s 844ms/step - loss: 0.0269 - accuracy: 0.9901 - val_loss: 0.1898 - val_accuracy: 0.9433\n",
      "Epoch 22/25\n",
      "1562/1562 [==============================] - 1323s 847ms/step - loss: 0.0240 - accuracy: 0.9912 - val_loss: 0.0940 - val_accuracy: 0.9694\n",
      "Epoch 23/25\n",
      "1562/1562 [==============================] - 1334s 854ms/step - loss: 0.0218 - accuracy: 0.9919 - val_loss: 0.0547 - val_accuracy: 0.9813\n",
      "Epoch 24/25\n",
      "1562/1562 [==============================] - 1330s 851ms/step - loss: 0.0223 - accuracy: 0.9919 - val_loss: 0.0727 - val_accuracy: 0.9733\n",
      "Epoch 25/25\n",
      "1562/1562 [==============================] - 1333s 853ms/step - loss: 0.0212 - accuracy: 0.9923 - val_loss: 0.0979 - val_accuracy: 0.9650\n"
     ]
    }
   ],
   "source": [
    "train_steps = 100000//64\n",
    "valid_steps = 20000//64\n",
    "\n",
    "history = model.fit_generator(\n",
    "    train_flow,\n",
    "    epochs = 25,\n",
    "    #callbacks=[early_stop],\n",
    "    steps_per_epoch= train_steps,\n",
    "    validation_data= valid_flow,\n",
    "    validation_steps= valid_steps\n",
    ")"
   ]
  },
  {
   "cell_type": "code",
   "execution_count": 10,
   "metadata": {},
   "outputs": [],
   "source": [
    "\n",
    "\"\"\"\n",
    "Plot the training and validation loss\n",
    "epochs - list of epoch numbers\n",
    "loss - training loss for each epoch\n",
    "val_loss - validation loss for each epoch\n",
    "\"\"\"\n",
    "def plot_loss(epochs, loss, val_loss):\n",
    "    plt.plot(epochs, loss, 'bo', label='Training Loss')\n",
    "    plt.plot(epochs, val_loss, 'orange', label = 'Validation Loss')\n",
    "    plt.title('Training and Validation Loss')\n",
    "    plt.legend()\n",
    "    plt.show()\n",
    "\"\"\"\n",
    "Plot the training and validation accuracy\n",
    "epochs - list of epoch numbers\n",
    "acc - training accuracy for each epoch\n",
    "val_acc - validation accuracy for each epoch\n",
    "\"\"\"\n",
    "def plot_accuracy(epochs, acc, val_acc):\n",
    "    plt.plot(epochs, acc, 'bo', label='Training accuracy')\n",
    "    plt.plot(epochs, val_acc, 'orange', label = 'Validation accuracy')\n",
    "    plt.title('Training and Validation Accuracy')\n",
    "    plt.legend()\n",
    "    plt.show()"
   ]
  },
  {
   "cell_type": "code",
   "execution_count": 11,
   "metadata": {},
   "outputs": [],
   "source": [
    "acc = history.history['accuracy']\n",
    "val_acc = history.history['val_accuracy']\n",
    "loss = history.history['loss']\n",
    "val_loss = history.history['val_loss']"
   ]
  },
  {
   "cell_type": "code",
   "execution_count": 12,
   "metadata": {},
   "outputs": [
    {
     "data": {
      "image/png": "[encoded data removed]",
      "text/plain": [
       "<Figure size 432x288 with 1 Axes>"
      ]
     },
     "metadata": {
      "needs_background": "light"
     },
     "output_type": "display_data"
    },
    {
     "data": {
      "image/png": "[encoded data removed]",
      "text/plain": [
       "<Figure size 432x288 with 1 Axes>"
      ]
     },
     "metadata": {
      "needs_background": "light"
     },
     "output_type": "display_data"
    }
   ],
   "source": [
    "plot_loss(range(1, len(loss) + 1), loss, val_loss)\n",
    "plot_accuracy(range(1, len(loss) + 1), acc, val_acc)"
   ]
  },
  {
   "cell_type": "code",
   "execution_count": 13,
   "metadata": {},
   "outputs": [
    {
     "name": "stdout",
     "output_type": "stream",
     "text": [
      "Found 20000 images belonging to 2 classes.\n"
     ]
    }
   ],
   "source": [
    "test_flow = image_gen1.flow_from_directory(\n",
    "    base_path + 'test/',\n",
    "    target_size=(224, 224),\n",
    "    batch_size=1,\n",
    "    shuffle = False,\n",
    "    class_mode='binary'\n",
    ")\n",
    "y_pred=model.predict(test_flow)\n",
    "y_test = test_flow.classes"
   ]
  },
  {
   "cell_type": "code",
   "execution_count": 14,
   "metadata": {},
   "outputs": [
    {
     "name": "stdout",
     "output_type": "stream",
     "text": [
      "ROC AUC Score: 0.994876985\n",
      "AP Score: 0.9947744490609517\n",
      "Confusion Matrix : \n",
      " [[9655  345]\n",
      " [ 324 9676]]\n",
      "\n",
      "              precision    recall  f1-score   support\n",
      "\n",
      "           0       0.97      0.97      0.97     10000\n",
      "           1       0.97      0.97      0.97     10000\n",
      "\n",
      "    accuracy                           0.97     20000\n",
      "   macro avg       0.97      0.97      0.97     20000\n",
      "weighted avg       0.97      0.97      0.97     20000\n",
      "\n"
     ]
    }
   ],
   "source": [
    "print(\"ROC AUC Score:\", roc_auc_score(y_test, y_pred))\n",
    "print(\"AP Score:\", average_precision_score(y_test, y_pred))\n",
    "print(\"Confusion Matrix : \\n\" ,confusion_matrix(y_test, y_pred>0.5))\n",
    "print()\n",
    "print(classification_report(y_test, y_pred > 0.5))"
   ]
  },
  {
   "cell_type": "markdown",
   "metadata": {},
   "source": [
    "# Saving the model"
   ]
  },
  {
   "cell_type": "code",
   "execution_count": 15,
   "metadata": {},
   "outputs": [],
   "source": [
    "model.save(\"densenet169.h5\")"
   ]
  },
  {
   "cell_type": "code",
   "execution_count": null,
   "metadata": {},
   "outputs": [],
   "source": []
  },
  {
   "cell_type": "code",
   "execution_count": null,
   "metadata": {},
   "outputs": [],
   "source": []
  },
  {
   "cell_type": "code",
   "execution_count": null,
   "metadata": {},
   "outputs": [],
   "source": []
  },
  {
   "cell_type": "code",
   "execution_count": null,
   "metadata": {},
   "outputs": [],
   "source": []
  },
  {
   "cell_type": "code",
   "execution_count": null,
   "metadata": {},
   "outputs": [],
   "source": []
  }
 ],
 "metadata": {
  "kernelspec": {
   "display_name": "Python 3",
   "language": "python",
   "name": "python3"
  },
  "language_info": {
   "codemirror_mode": {
    "name": "ipython",
    "version": 3
   },
   "file_extension": ".py",
   "mimetype": "text/x-python",
   "name": "python",
   "nbconvert_exporter": "python",
   "pygments_lexer": "ipython3",
   "version": "3.7.6"
  }
 },
 "nbformat": 4,
 "nbformat_minor": 4
}
